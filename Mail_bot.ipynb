{
 "cells": [
  {
   "cell_type": "code",
   "execution_count": 3,
   "id": "c475d8e2-c98f-45f3-8f33-ce5034537e23",
   "metadata": {},
   "outputs": [
    {
     "name": "stdin",
     "output_type": "stream",
     "text": [
      "Enter recipient email address:  vansh.padia@impressico.com\n",
      "Enter subject of the email:  create a demo\n",
      "Enter your content :  create a demo\n"
     ]
    },
    {
     "name": "stdout",
     "output_type": "stream",
     "text": [
      "Email sent successfully!\n"
     ]
    }
   ],
   "source": [
    "import smtplib\n",
    "from email.mime.text import MIMEText\n",
    "from email.mime.multipart import MIMEMultipart\n",
    "\n",
    "\n",
    "\n",
    "# Your email credentials\n",
    "sender_email = 'vansh.padia19@gmail.com'\n",
    "password = 'aagqanjpztxbffqe'\n",
    "\n",
    "# Input from user\n",
    "receiver_email = input('Enter recipient email address: ')\n",
    "subject = input('Enter subject of the email: ')\n",
    "\n",
    "\n",
    "try:\n",
    "    # Generate email content using ChatGPT\n",
    "    email_content = input('Enter your content : ')\n",
    "\n",
    "    # Prepare email message\n",
    "    message = MIMEMultipart()\n",
    "    message['From'] = sender_email\n",
    "    message['To'] = receiver_email\n",
    "    message['Subject'] = subject\n",
    "\n",
    "    # Add body to email\n",
    "    body = email_content\n",
    "    message.attach(MIMEText(body, 'plain'))\n",
    "\n",
    "    # Log in to the SMTP server\n",
    "    server = smtplib.SMTP('smtp.gmail.com', 587)\n",
    "    server.starttls()  # Secure the connection\n",
    "    server.login(sender_email, password)\n",
    "\n",
    "    # Send email\n",
    "    server.sendmail(sender_email, receiver_email, message.as_string())\n",
    "    print('Email sent successfully!')\n",
    "\n",
    "except Exception as e:\n",
    "    print(f'Error: {e}')\n",
    "\n",
    "finally:\n",
    "    server.quit()\n"
   ]
  },
  {
   "cell_type": "code",
   "execution_count": null,
   "id": "c1a7d61d-ee0d-468f-958f-748e40feff50",
   "metadata": {},
   "outputs": [],
   "source": []
  },
  {
   "cell_type": "code",
   "execution_count": null,
   "id": "87fbca02-0d98-43ce-8043-86dbe55f53ae",
   "metadata": {},
   "outputs": [],
   "source": []
  }
 ],
 "metadata": {
  "kernelspec": {
   "display_name": "Python 3 (ipykernel)",
   "language": "python",
   "name": "python3"
  },
  "language_info": {
   "codemirror_mode": {
    "name": "ipython",
    "version": 3
   },
   "file_extension": ".py",
   "mimetype": "text/x-python",
   "name": "python",
   "nbconvert_exporter": "python",
   "pygments_lexer": "ipython3",
   "version": "3.11.7"
  }
 },
 "nbformat": 4,
 "nbformat_minor": 5
}
