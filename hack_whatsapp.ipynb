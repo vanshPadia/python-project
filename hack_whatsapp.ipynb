{
 "cells": [
  {
   "cell_type": "code",
   "execution_count": 1,
   "id": "b8d71b3a-48b2-48e3-b678-95ebe7398cda",
   "metadata": {},
   "outputs": [
    {
     "name": "stdout",
     "output_type": "stream",
     "text": [
      "Requirement already satisfied: pywhatkit in /home/vansh.padia/anaconda3/lib/python3.11/site-packages (5.4)\n",
      "Requirement already satisfied: Pillow in /home/vansh.padia/anaconda3/lib/python3.11/site-packages (from pywhatkit) (10.2.0)\n",
      "Requirement already satisfied: pyautogui in /home/vansh.padia/anaconda3/lib/python3.11/site-packages (from pywhatkit) (0.9.54)\n",
      "Requirement already satisfied: requests in /home/vansh.padia/anaconda3/lib/python3.11/site-packages (from pywhatkit) (2.31.0)\n",
      "Requirement already satisfied: wikipedia in /home/vansh.padia/anaconda3/lib/python3.11/site-packages (from pywhatkit) (1.4.0)\n",
      "Requirement already satisfied: Flask in /home/vansh.padia/anaconda3/lib/python3.11/site-packages (from pywhatkit) (2.2.5)\n",
      "Requirement already satisfied: Werkzeug>=2.2.2 in /home/vansh.padia/anaconda3/lib/python3.11/site-packages (from Flask->pywhatkit) (2.2.3)\n",
      "Requirement already satisfied: Jinja2>=3.0 in /home/vansh.padia/anaconda3/lib/python3.11/site-packages (from Flask->pywhatkit) (3.1.3)\n",
      "Requirement already satisfied: itsdangerous>=2.0 in /home/vansh.padia/anaconda3/lib/python3.11/site-packages (from Flask->pywhatkit) (2.0.1)\n",
      "Requirement already satisfied: click>=8.0 in /home/vansh.padia/anaconda3/lib/python3.11/site-packages (from Flask->pywhatkit) (8.1.7)\n",
      "Requirement already satisfied: pymsgbox in /home/vansh.padia/anaconda3/lib/python3.11/site-packages (from pyautogui->pywhatkit) (1.0.9)\n",
      "Requirement already satisfied: pytweening>=1.0.4 in /home/vansh.padia/anaconda3/lib/python3.11/site-packages (from pyautogui->pywhatkit) (1.2.0)\n",
      "Requirement already satisfied: pyscreeze>=0.1.21 in /home/vansh.padia/anaconda3/lib/python3.11/site-packages (from pyautogui->pywhatkit) (0.1.30)\n",
      "Requirement already satisfied: pygetwindow>=0.0.5 in /home/vansh.padia/anaconda3/lib/python3.11/site-packages (from pyautogui->pywhatkit) (0.0.9)\n",
      "Requirement already satisfied: mouseinfo in /home/vansh.padia/anaconda3/lib/python3.11/site-packages (from pyautogui->pywhatkit) (0.1.3)\n",
      "Requirement already satisfied: python3-Xlib in /home/vansh.padia/anaconda3/lib/python3.11/site-packages (from pyautogui->pywhatkit) (0.15)\n",
      "Requirement already satisfied: charset-normalizer<4,>=2 in /home/vansh.padia/anaconda3/lib/python3.11/site-packages (from requests->pywhatkit) (2.0.4)\n",
      "Requirement already satisfied: idna<4,>=2.5 in /home/vansh.padia/anaconda3/lib/python3.11/site-packages (from requests->pywhatkit) (3.4)\n",
      "Requirement already satisfied: urllib3<3,>=1.21.1 in /home/vansh.padia/anaconda3/lib/python3.11/site-packages (from requests->pywhatkit) (2.0.7)\n",
      "Requirement already satisfied: certifi>=2017.4.17 in /home/vansh.padia/anaconda3/lib/python3.11/site-packages (from requests->pywhatkit) (2024.6.2)\n",
      "Requirement already satisfied: beautifulsoup4 in /home/vansh.padia/anaconda3/lib/python3.11/site-packages (from wikipedia->pywhatkit) (4.12.2)\n",
      "Requirement already satisfied: MarkupSafe>=2.0 in /home/vansh.padia/anaconda3/lib/python3.11/site-packages (from Jinja2>=3.0->Flask->pywhatkit) (2.1.3)\n",
      "Requirement already satisfied: pyrect in /home/vansh.padia/anaconda3/lib/python3.11/site-packages (from pygetwindow>=0.0.5->pyautogui->pywhatkit) (0.2.0)\n",
      "Requirement already satisfied: soupsieve>1.2 in /home/vansh.padia/anaconda3/lib/python3.11/site-packages (from beautifulsoup4->wikipedia->pywhatkit) (2.5)\n",
      "Requirement already satisfied: pyperclip in /home/vansh.padia/anaconda3/lib/python3.11/site-packages (from mouseinfo->pyautogui->pywhatkit) (1.9.0)\n"
     ]
    }
   ],
   "source": [
    "!pip install pywhatkit"
   ]
  },
  {
   "cell_type": "code",
   "execution_count": 5,
   "id": "bbb2d5d2-0029-4d5a-9115-a6324d4f8b3d",
   "metadata": {},
   "outputs": [],
   "source": [
    "import pywhatkit\n",
    "\n",
    "# # Send a WhatsApp Message to a Contact at 1:30 PM\n",
    "# pywhatkit.sendwhatmsg(\"+918127981682\", \"Hello \", 10, 41)"
   ]
  },
  {
   "cell_type": "code",
   "execution_count": null,
   "id": "0ea47e87-e22e-486b-b1e6-bb9352af08b3",
   "metadata": {},
   "outputs": [
    {
     "name": "stdout",
     "output_type": "stream",
     "text": [
      "In 9832 Seconds WhatsApp will open and after 15 Seconds Message will be Delivered!\n"
     ]
    }
   ],
   "source": [
    "\n",
    "# # Send a WhatsApp Message to a Contact at 1:30 PM\n",
    "# pywhatkit.sendwhatmsg(\"+910123456789\", \"Hi\", 13, 30)\n",
    "\n",
    "# Same as above but Closes the Tab in 2 Seconds after Sending the Message\n",
    "pywhatkit.sendwhatmsg(\"+96353400080\", \"Hi\", 13, 15, True, 2)\n",
    "\n",
    "# # Send an Image to a Group with the Caption as Hello\n",
    "# pywhatkit.sendwhats_image(\"AB123CDEFGHijklmn\", \"Images/Hello.png\", \"Hello\")\n",
    "\n",
    "# # Send an Image to a Contact with the no Caption\n",
    "# pywhatkit.sendwhats_image(\"+910123456789\", \"Images/Hello.png\")\n",
    "\n",
    "# # Send a WhatsApp Message to a Group at 12:00 AM\n",
    "# pywhatkit.sendwhatmsg_to_group(\"AB123CDEFGHijklmn\", \"Hey All!\", 0, 0)\n",
    "\n",
    "# # Send a WhatsApp Message to a Group instantly\n",
    "# pywhatkit.sendwhatmsg_to_group_instantly(\"AB123CDEFGHijklmn\", \"Hey All!\")\n",
    "\n",
    "# # Play a Video on YouTube\n",
    "# pywhatkit.playonyt(\"PyWhatKit\")"
   ]
  },
  {
   "cell_type": "code",
   "execution_count": null,
   "id": "8e1c8f7c-b2d6-4eea-a036-43b8f8a16b7c",
   "metadata": {},
   "outputs": [],
   "source": []
  }
 ],
 "metadata": {
  "kernelspec": {
   "display_name": "Python 3 (ipykernel)",
   "language": "python",
   "name": "python3"
  },
  "language_info": {
   "codemirror_mode": {
    "name": "ipython",
    "version": 3
   },
   "file_extension": ".py",
   "mimetype": "text/x-python",
   "name": "python",
   "nbconvert_exporter": "python",
   "pygments_lexer": "ipython3",
   "version": "3.11.7"
  }
 },
 "nbformat": 4,
 "nbformat_minor": 5
}
